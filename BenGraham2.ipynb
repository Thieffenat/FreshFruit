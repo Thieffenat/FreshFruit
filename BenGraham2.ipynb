{
  "nbformat": 4,
  "nbformat_minor": 0,
  "metadata": {
    "colab": {
      "name": "BenGraham2.ipynb",
      "provenance": [],
      "collapsed_sections": [],
      "toc_visible": true,
      "include_colab_link": true
    },
    "kernelspec": {
      "name": "python3",
      "display_name": "Python 3"
    }
  },
  "cells": [
    {
      "cell_type": "markdown",
      "metadata": {
        "id": "view-in-github",
        "colab_type": "text"
      },
      "source": [
        "<a href=\"https://colab.research.google.com/github/Thieffenat/FreshFruit/blob/master/BenGraham2.ipynb\" target=\"_parent\"><img src=\"https://colab.research.google.com/assets/colab-badge.svg\" alt=\"Open In Colab\"/></a>"
      ]
    },
    {
      "cell_type": "markdown",
      "metadata": {
        "id": "wOoGFS9CvX0D",
        "colab_type": "text"
      },
      "source": [
        "# Testing"
      ]
    },
    {
      "cell_type": "code",
      "metadata": {
        "id": "vgfkAQEYM5Y1",
        "colab_type": "code",
        "outputId": "ee72ba2a-b4b3-45e0-86bd-e549a57de020",
        "colab": {
          "base_uri": "https://localhost:8080/",
          "height": 307
        }
      },
      "source": [
        "!pip3 install iexfinance"
      ],
      "execution_count": 0,
      "outputs": [
        {
          "output_type": "stream",
          "text": [
            "Collecting iexfinance\n",
            "\u001b[?25l  Downloading https://files.pythonhosted.org/packages/1c/5a/ea97aa0b1581352fe1019105d69dddec25a9f0c331b7c1136ee76ae50589/iexfinance-0.4.3-py3-none-any.whl (51kB)\n",
            "\r\u001b[K     |██████▍                         | 10kB 23.6MB/s eta 0:00:01\r\u001b[K     |████████████▉                   | 20kB 3.3MB/s eta 0:00:01\r\u001b[K     |███████████████████▎            | 30kB 4.3MB/s eta 0:00:01\r\u001b[K     |█████████████████████████▊      | 40kB 3.1MB/s eta 0:00:01\r\u001b[K     |████████████████████████████████| 51kB 2.7MB/s \n",
            "\u001b[?25hRequirement already satisfied: pandas in /usr/local/lib/python3.6/dist-packages (from iexfinance) (0.25.3)\n",
            "Requirement already satisfied: requests in /usr/local/lib/python3.6/dist-packages (from iexfinance) (2.21.0)\n",
            "Requirement already satisfied: numpy>=1.13.3 in /usr/local/lib/python3.6/dist-packages (from pandas->iexfinance) (1.17.5)\n",
            "Requirement already satisfied: python-dateutil>=2.6.1 in /usr/local/lib/python3.6/dist-packages (from pandas->iexfinance) (2.6.1)\n",
            "Requirement already satisfied: pytz>=2017.2 in /usr/local/lib/python3.6/dist-packages (from pandas->iexfinance) (2018.9)\n",
            "Requirement already satisfied: urllib3<1.25,>=1.21.1 in /usr/local/lib/python3.6/dist-packages (from requests->iexfinance) (1.24.3)\n",
            "Requirement already satisfied: chardet<3.1.0,>=3.0.2 in /usr/local/lib/python3.6/dist-packages (from requests->iexfinance) (3.0.4)\n",
            "Requirement already satisfied: certifi>=2017.4.17 in /usr/local/lib/python3.6/dist-packages (from requests->iexfinance) (2019.11.28)\n",
            "Requirement already satisfied: idna<2.9,>=2.5 in /usr/local/lib/python3.6/dist-packages (from requests->iexfinance) (2.8)\n",
            "Requirement already satisfied: six>=1.5 in /usr/local/lib/python3.6/dist-packages (from python-dateutil>=2.6.1->pandas->iexfinance) (1.12.0)\n",
            "Installing collected packages: iexfinance\n",
            "Successfully installed iexfinance-0.4.3\n"
          ],
          "name": "stdout"
        }
      ]
    },
    {
      "cell_type": "code",
      "metadata": {
        "id": "48DVH5_bOHAF",
        "colab_type": "code",
        "outputId": "bcd9943f-c288-442a-cb4d-5d41411c051f",
        "colab": {
          "base_uri": "https://localhost:8080/",
          "height": 557
        }
      },
      "source": [
        "#test functionality\n",
        "from iexfinance.stocks import Stock\n",
        "\n",
        "IEX_TOKEN='pk_69cd67cc6f374f389b03ecb9cc0ade3a'\n",
        "\n",
        "aapl = Stock('AAPL',token=IEX_TOKEN)\n",
        "aapl.get_key_stats()"
      ],
      "execution_count": 0,
      "outputs": [
        {
          "output_type": "execute_result",
          "data": {
            "text/plain": [
              "{'avg10Volume': 74189366.9,\n",
              " 'avg30Volume': 49065952.47,\n",
              " 'beta': 1.263710621201779,\n",
              " 'companyName': 'Apple, Inc.',\n",
              " 'day200MovingAvg': 246.28,\n",
              " 'day30ChangePercent': -0.23355,\n",
              " 'day50MovingAvg': 306.12,\n",
              " 'day5ChangePercent': -0.141162,\n",
              " 'dividendYield': 0.012246706683317891,\n",
              " 'employees': 137000,\n",
              " 'exDividendDate': '2020-02-07',\n",
              " 'float': 4368956159,\n",
              " 'marketcap': 1086125400400,\n",
              " 'maxChangePercent': 244.7723,\n",
              " 'month1ChangePercent': -0.23591,\n",
              " 'month3ChangePercent': -0.097838,\n",
              " 'month6ChangePercent': 0.134766,\n",
              " 'nextDividendDate': None,\n",
              " 'nextEarningsDate': '2020-05-05',\n",
              " 'peRatio': 20.13,\n",
              " 'sharesOutstanding': 4375480000,\n",
              " 'ttmDividendRate': 3.04,\n",
              " 'ttmEPS': 12.7549,\n",
              " 'week52change': 0.36607799999999996,\n",
              " 'week52high': 327.85,\n",
              " 'week52low': 170.27,\n",
              " 'year1ChangePercent': 0.366078,\n",
              " 'year2ChangePercent': 0.3793,\n",
              " 'year5ChangePercent': 1.0085,\n",
              " 'ytdChangePercent': -0.173531}"
            ]
          },
          "metadata": {
            "tags": []
          },
          "execution_count": 6
        }
      ]
    },
    {
      "cell_type": "code",
      "metadata": {
        "id": "-81kblgqP8RL",
        "colab_type": "code",
        "colab": {}
      },
      "source": [
        "#get stocks data\n",
        "#define variables\n",
        "#integrate alpaca"
      ],
      "execution_count": 0,
      "outputs": []
    },
    {
      "cell_type": "markdown",
      "metadata": {
        "id": "ICuD5th5vena",
        "colab_type": "text"
      },
      "source": [
        "# Install Packages"
      ]
    },
    {
      "cell_type": "code",
      "metadata": {
        "id": "fSgpSkgHKnku",
        "colab_type": "code",
        "outputId": "a49c8ed7-ceaf-49a5-9e6e-ecc831290e6b",
        "colab": {
          "base_uri": "https://localhost:8080/",
          "height": 107
        }
      },
      "source": [
        "!pip3 install pandas"
      ],
      "execution_count": 0,
      "outputs": [
        {
          "output_type": "stream",
          "text": [
            "Requirement already satisfied: pandas in /usr/local/lib/python3.6/dist-packages (0.25.3)\n",
            "Requirement already satisfied: numpy>=1.13.3 in /usr/local/lib/python3.6/dist-packages (from pandas) (1.17.5)\n",
            "Requirement already satisfied: python-dateutil>=2.6.1 in /usr/local/lib/python3.6/dist-packages (from pandas) (2.6.1)\n",
            "Requirement already satisfied: pytz>=2017.2 in /usr/local/lib/python3.6/dist-packages (from pandas) (2018.9)\n",
            "Requirement already satisfied: six>=1.5 in /usr/local/lib/python3.6/dist-packages (from python-dateutil>=2.6.1->pandas) (1.12.0)\n"
          ],
          "name": "stdout"
        }
      ]
    },
    {
      "cell_type": "code",
      "metadata": {
        "id": "Dm_5589eD_Oj",
        "colab_type": "code",
        "outputId": "f7fba5e3-b138-4564-c425-f12c1d4db334",
        "colab": {
          "base_uri": "https://localhost:8080/",
          "height": 589
        }
      },
      "source": [
        "#retrieve data test get_symbols\n",
        "from iexfinance.refdata import get_symbols\n",
        "\n",
        "get_symbols(output_format='pandas', token=\"sk_084ecc26ad39496b8a4acfeea1e5015a\")"
      ],
      "execution_count": 0,
      "outputs": [
        {
          "output_type": "execute_result",
          "data": {
            "text/html": [
              "<div>\n",
              "<style scoped>\n",
              "    .dataframe tbody tr th:only-of-type {\n",
              "        vertical-align: middle;\n",
              "    }\n",
              "\n",
              "    .dataframe tbody tr th {\n",
              "        vertical-align: top;\n",
              "    }\n",
              "\n",
              "    .dataframe thead th {\n",
              "        text-align: right;\n",
              "    }\n",
              "</style>\n",
              "<table border=\"1\" class=\"dataframe\">\n",
              "  <thead>\n",
              "    <tr style=\"text-align: right;\">\n",
              "      <th></th>\n",
              "      <th>symbol</th>\n",
              "      <th>exchange</th>\n",
              "      <th>name</th>\n",
              "      <th>date</th>\n",
              "      <th>type</th>\n",
              "      <th>iexId</th>\n",
              "      <th>region</th>\n",
              "      <th>currency</th>\n",
              "      <th>isEnabled</th>\n",
              "      <th>figi</th>\n",
              "      <th>cik</th>\n",
              "    </tr>\n",
              "  </thead>\n",
              "  <tbody>\n",
              "    <tr>\n",
              "      <th>0</th>\n",
              "      <td>A</td>\n",
              "      <td>NYS</td>\n",
              "      <td>Agilent Technologies Inc.</td>\n",
              "      <td>2020-03-13</td>\n",
              "      <td>cs</td>\n",
              "      <td>IEX_46574843354B2D52</td>\n",
              "      <td>US</td>\n",
              "      <td>USD</td>\n",
              "      <td>True</td>\n",
              "      <td>BBG000C2V3D6</td>\n",
              "      <td>1090872</td>\n",
              "    </tr>\n",
              "    <tr>\n",
              "      <th>1</th>\n",
              "      <td>AA</td>\n",
              "      <td>NYS</td>\n",
              "      <td>Alcoa Corp.</td>\n",
              "      <td>2020-03-13</td>\n",
              "      <td>cs</td>\n",
              "      <td>IEX_4238333734532D52</td>\n",
              "      <td>US</td>\n",
              "      <td>USD</td>\n",
              "      <td>True</td>\n",
              "      <td>BBG00B3T3HD3</td>\n",
              "      <td>1675149</td>\n",
              "    </tr>\n",
              "    <tr>\n",
              "      <th>2</th>\n",
              "      <td>AAAU</td>\n",
              "      <td>PSE</td>\n",
              "      <td>Perth Mint Physical Gold ETF</td>\n",
              "      <td>2020-03-13</td>\n",
              "      <td>et</td>\n",
              "      <td>IEX_474B433136332D52</td>\n",
              "      <td>US</td>\n",
              "      <td>USD</td>\n",
              "      <td>True</td>\n",
              "      <td>BBG00LPXX872</td>\n",
              "      <td>None</td>\n",
              "    </tr>\n",
              "    <tr>\n",
              "      <th>3</th>\n",
              "      <td>AACG</td>\n",
              "      <td>NAS</td>\n",
              "      <td>ATA Creativity Global Sponsored ADR</td>\n",
              "      <td>2020-03-13</td>\n",
              "      <td>ad</td>\n",
              "      <td>IEX_44595A4C53392D52</td>\n",
              "      <td>US</td>\n",
              "      <td>USD</td>\n",
              "      <td>True</td>\n",
              "      <td>BBG000V2S3P6</td>\n",
              "      <td>None</td>\n",
              "    </tr>\n",
              "    <tr>\n",
              "      <th>4</th>\n",
              "      <td>AADR</td>\n",
              "      <td>PSE</td>\n",
              "      <td>AdvisorShares Dorsey Wright ADR ETF</td>\n",
              "      <td>2020-03-13</td>\n",
              "      <td>et</td>\n",
              "      <td>IEX_5253355435362D52</td>\n",
              "      <td>US</td>\n",
              "      <td>USD</td>\n",
              "      <td>True</td>\n",
              "      <td>BBG000BDYRW6</td>\n",
              "      <td>None</td>\n",
              "    </tr>\n",
              "    <tr>\n",
              "      <th>...</th>\n",
              "      <td>...</td>\n",
              "      <td>...</td>\n",
              "      <td>...</td>\n",
              "      <td>...</td>\n",
              "      <td>...</td>\n",
              "      <td>...</td>\n",
              "      <td>...</td>\n",
              "      <td>...</td>\n",
              "      <td>...</td>\n",
              "      <td>...</td>\n",
              "      <td>...</td>\n",
              "    </tr>\n",
              "    <tr>\n",
              "      <th>8848</th>\n",
              "      <td>ZUO</td>\n",
              "      <td>NYS</td>\n",
              "      <td>Zuora Inc. Class A</td>\n",
              "      <td>2020-03-13</td>\n",
              "      <td>cs</td>\n",
              "      <td>IEX_4D474631525A2D52</td>\n",
              "      <td>US</td>\n",
              "      <td>USD</td>\n",
              "      <td>True</td>\n",
              "      <td>BBG000BT3HG5</td>\n",
              "      <td>1423774</td>\n",
              "    </tr>\n",
              "    <tr>\n",
              "      <th>8849</th>\n",
              "      <td>ZVO</td>\n",
              "      <td>NAS</td>\n",
              "      <td>Zovio Inc.</td>\n",
              "      <td>2020-03-13</td>\n",
              "      <td>cs</td>\n",
              "      <td>IEX_514A435352362D52</td>\n",
              "      <td>US</td>\n",
              "      <td>USD</td>\n",
              "      <td>True</td>\n",
              "      <td>BBG000C3CQP1</td>\n",
              "      <td>1305323</td>\n",
              "    </tr>\n",
              "    <tr>\n",
              "      <th>8850</th>\n",
              "      <td>ZYME</td>\n",
              "      <td>NYS</td>\n",
              "      <td>Zymeworks Inc.</td>\n",
              "      <td>2020-03-13</td>\n",
              "      <td>cs</td>\n",
              "      <td>IEX_5253315838322D52</td>\n",
              "      <td>US</td>\n",
              "      <td>USD</td>\n",
              "      <td>True</td>\n",
              "      <td>BBG00GD15LJ5</td>\n",
              "      <td>1403752</td>\n",
              "    </tr>\n",
              "    <tr>\n",
              "      <th>8851</th>\n",
              "      <td>ZYNE</td>\n",
              "      <td>NAS</td>\n",
              "      <td>Zynerba Pharmaceuticals Inc</td>\n",
              "      <td>2020-03-13</td>\n",
              "      <td>cs</td>\n",
              "      <td>IEX_4E3154424A382D52</td>\n",
              "      <td>US</td>\n",
              "      <td>USD</td>\n",
              "      <td>True</td>\n",
              "      <td>BBG007BBS8B7</td>\n",
              "      <td>1621443</td>\n",
              "    </tr>\n",
              "    <tr>\n",
              "      <th>8852</th>\n",
              "      <td>ZYXI</td>\n",
              "      <td>NAS</td>\n",
              "      <td>Zynex Inc.</td>\n",
              "      <td>2020-03-13</td>\n",
              "      <td>cs</td>\n",
              "      <td>IEX_4E464C4C4A462D52</td>\n",
              "      <td>US</td>\n",
              "      <td>USD</td>\n",
              "      <td>True</td>\n",
              "      <td>BBG000BJBXZ2</td>\n",
              "      <td>None</td>\n",
              "    </tr>\n",
              "  </tbody>\n",
              "</table>\n",
              "<p>8853 rows × 11 columns</p>\n",
              "</div>"
            ],
            "text/plain": [
              "     symbol exchange  ...          figi      cik\n",
              "0         A      NYS  ...  BBG000C2V3D6  1090872\n",
              "1        AA      NYS  ...  BBG00B3T3HD3  1675149\n",
              "2      AAAU      PSE  ...  BBG00LPXX872     None\n",
              "3      AACG      NAS  ...  BBG000V2S3P6     None\n",
              "4      AADR      PSE  ...  BBG000BDYRW6     None\n",
              "...     ...      ...  ...           ...      ...\n",
              "8848    ZUO      NYS  ...  BBG000BT3HG5  1423774\n",
              "8849    ZVO      NAS  ...  BBG000C3CQP1  1305323\n",
              "8850   ZYME      NYS  ...  BBG00GD15LJ5  1403752\n",
              "8851   ZYNE      NAS  ...  BBG007BBS8B7  1621443\n",
              "8852   ZYXI      NAS  ...  BBG000BJBXZ2     None\n",
              "\n",
              "[8853 rows x 11 columns]"
            ]
          },
          "metadata": {
            "tags": []
          },
          "execution_count": 3
        }
      ]
    },
    {
      "cell_type": "code",
      "metadata": {
        "id": "QDPdQa19R2vp",
        "colab_type": "code",
        "outputId": "ba1bf494-f9e8-4b8e-81ea-db157905009c",
        "colab": {
          "base_uri": "https://localhost:8080/",
          "height": 143
        }
      },
      "source": [
        "#retrieve data test for aapl stock\n",
        "  from iexfinance.data_apis import get_data_points\n",
        "\n",
        "get_data_points('AAPL',output_format='pandas', token=\"sk_084ecc26ad39496b8a4acfeea1e5015a\").head"
      ],
      "execution_count": 0,
      "outputs": [
        {
          "output_type": "execute_result",
          "data": {
            "text/plain": [
              "<bound method NDFrame.head of                       NEXTDIVIDENDDATE  ...                        ZIP\n",
              "key                   NEXTDIVIDENDDATE  ...                        ZIP\n",
              "weight                               1  ...                          1\n",
              "description                             ...                        zip\n",
              "lastUpdated  2020-02-07T16:24:55+00:00  ...  2020-03-13T12:58:20+00:00\n",
              "\n",
              "[4 rows x 130 columns]>"
            ]
          },
          "metadata": {
            "tags": []
          },
          "execution_count": 2
        }
      ]
    },
    {
      "cell_type": "code",
      "metadata": {
        "id": "NrsrvcbfEb4z",
        "colab_type": "code",
        "outputId": "380a8c1b-d98f-4419-e394-0fbeb12a2004",
        "colab": {
          "base_uri": "https://localhost:8080/",
          "height": 1000
        }
      },
      "source": [
        "!pip3 install pylivetrader"
      ],
      "execution_count": 0,
      "outputs": [
        {
          "output_type": "stream",
          "text": [
            "Requirement already satisfied: pylivetrader in /usr/local/lib/python3.6/dist-packages (0.1.1)\n",
            "Requirement already satisfied: logbook in /usr/local/lib/python3.6/dist-packages (from pylivetrader) (1.5.3)\n",
            "Requirement already satisfied: astor in /usr/local/lib/python3.6/dist-packages (from pylivetrader) (0.8.1)\n",
            "Requirement already satisfied: pytz in /usr/local/lib/python3.6/dist-packages (from pylivetrader) (2018.9)\n",
            "Requirement already satisfied: bottleneck==1.0.0 in /usr/local/lib/python3.6/dist-packages (from pylivetrader) (1.0.0)\n",
            "Requirement already satisfied: trading-calendars in /usr/local/lib/python3.6/dist-packages (from pylivetrader) (1.11.5)\n",
            "Requirement already satisfied: pipeline-live>=0.1.9 in /usr/local/lib/python3.6/dist-packages (from pylivetrader) (0.1.9)\n",
            "Requirement already satisfied: pandas<0.23 in /usr/local/lib/python3.6/dist-packages (from pylivetrader) (0.22.0)\n",
            "Requirement already satisfied: PyYAML in /usr/local/lib/python3.6/dist-packages (from pylivetrader) (3.13)\n",
            "Requirement already satisfied: alpaca-trade-api>=0.38 in /usr/local/lib/python3.6/dist-packages (from pylivetrader) (0.46)\n",
            "Requirement already satisfied: click in /usr/local/lib/python3.6/dist-packages (from pylivetrader) (7.0)\n",
            "Requirement already satisfied: ipython in /usr/local/lib/python3.6/dist-packages (from pylivetrader) (5.5.0)\n",
            "Requirement already satisfied: numpy in /usr/local/lib/python3.6/dist-packages (from bottleneck==1.0.0->pylivetrader) (1.17.5)\n",
            "Requirement already satisfied: toolz in /usr/local/lib/python3.6/dist-packages (from trading-calendars->pylivetrader) (0.10.0)\n",
            "Requirement already satisfied: iexfinance>=0.4.1 in /usr/local/lib/python3.6/dist-packages (from pipeline-live>=0.1.9->pylivetrader) (0.4.3)\n",
            "Requirement already satisfied: zipline==1.3.0 in /usr/local/lib/python3.6/dist-packages (from pipeline-live>=0.1.9->pylivetrader) (1.3.0)\n",
            "Requirement already satisfied: python-dateutil>=2 in /usr/local/lib/python3.6/dist-packages (from pandas<0.23->pylivetrader) (2.6.1)\n",
            "Requirement already satisfied: deprecated in /usr/local/lib/python3.6/dist-packages (from alpaca-trade-api>=0.38->pylivetrader) (1.2.7)\n",
            "Requirement already satisfied: requests in /usr/local/lib/python3.6/dist-packages (from alpaca-trade-api>=0.38->pylivetrader) (2.21.0)\n",
            "Requirement already satisfied: urllib3<1.25 in /usr/local/lib/python3.6/dist-packages (from alpaca-trade-api>=0.38->pylivetrader) (1.24.3)\n",
            "Requirement already satisfied: websockets>=8.0 in /usr/local/lib/python3.6/dist-packages (from alpaca-trade-api>=0.38->pylivetrader) (8.1)\n",
            "Requirement already satisfied: websocket-client in /usr/local/lib/python3.6/dist-packages (from alpaca-trade-api>=0.38->pylivetrader) (0.57.0)\n",
            "Requirement already satisfied: asyncio-nats-client in /usr/local/lib/python3.6/dist-packages (from alpaca-trade-api>=0.38->pylivetrader) (0.10.0)\n",
            "Requirement already satisfied: alpha-vantage in /usr/local/lib/python3.6/dist-packages (from alpaca-trade-api>=0.38->pylivetrader) (2.1.3)\n",
            "Requirement already satisfied: simplegeneric>0.8 in /usr/local/lib/python3.6/dist-packages (from ipython->pylivetrader) (0.8.1)\n",
            "Requirement already satisfied: pickleshare in /usr/local/lib/python3.6/dist-packages (from ipython->pylivetrader) (0.7.5)\n",
            "Requirement already satisfied: decorator in /usr/local/lib/python3.6/dist-packages (from ipython->pylivetrader) (4.4.1)\n",
            "Requirement already satisfied: setuptools>=18.5 in /usr/local/lib/python3.6/dist-packages (from ipython->pylivetrader) (45.2.0)\n",
            "Requirement already satisfied: pygments in /usr/local/lib/python3.6/dist-packages (from ipython->pylivetrader) (2.1.3)\n",
            "Requirement already satisfied: traitlets>=4.2 in /usr/local/lib/python3.6/dist-packages (from ipython->pylivetrader) (4.3.3)\n",
            "Requirement already satisfied: pexpect; sys_platform != \"win32\" in /usr/local/lib/python3.6/dist-packages (from ipython->pylivetrader) (4.8.0)\n",
            "Requirement already satisfied: prompt-toolkit<2.0.0,>=1.0.4 in /usr/local/lib/python3.6/dist-packages (from ipython->pylivetrader) (1.0.18)\n",
            "Requirement already satisfied: lru-dict>=1.1.4 in /usr/local/lib/python3.6/dist-packages (from zipline==1.3.0->pipeline-live>=0.1.9->pylivetrader) (1.1.6)\n",
            "Requirement already satisfied: statsmodels>=0.6.1 in /usr/local/lib/python3.6/dist-packages (from zipline==1.3.0->pipeline-live>=0.1.9->pylivetrader) (0.10.2)\n",
            "Requirement already satisfied: Cython>=0.25.2 in /usr/local/lib/python3.6/dist-packages (from zipline==1.3.0->pipeline-live>=0.1.9->pylivetrader) (0.29.15)\n",
            "Requirement already satisfied: tables>=3.3.0 in /usr/local/lib/python3.6/dist-packages (from zipline==1.3.0->pipeline-live>=0.1.9->pylivetrader) (3.4.4)\n",
            "Requirement already satisfied: sqlalchemy>=1.0.8 in /usr/local/lib/python3.6/dist-packages (from zipline==1.3.0->pipeline-live>=0.1.9->pylivetrader) (1.3.13)\n",
            "Requirement already satisfied: cyordereddict>=0.2.2 in /usr/local/lib/python3.6/dist-packages (from zipline==1.3.0->pipeline-live>=0.1.9->pylivetrader) (1.0.0)\n",
            "Requirement already satisfied: bcolz<1,>=0.12.1 in /usr/local/lib/python3.6/dist-packages (from zipline==1.3.0->pipeline-live>=0.1.9->pylivetrader) (0.12.1)\n",
            "Requirement already satisfied: scipy>=0.17.1 in /usr/local/lib/python3.6/dist-packages (from zipline==1.3.0->pipeline-live>=0.1.9->pylivetrader) (1.4.1)\n",
            "Requirement already satisfied: networkx<2.0,>=1.9.1 in /usr/local/lib/python3.6/dist-packages (from zipline==1.3.0->pipeline-live>=0.1.9->pylivetrader) (1.11)\n",
            "Requirement already satisfied: pandas-datareader>=0.2.1 in /usr/local/lib/python3.6/dist-packages (from zipline==1.3.0->pipeline-live>=0.1.9->pylivetrader) (0.7.4)\n",
            "Requirement already satisfied: sortedcontainers>=1.4.4 in /usr/local/lib/python3.6/dist-packages (from zipline==1.3.0->pipeline-live>=0.1.9->pylivetrader) (2.1.0)\n",
            "Requirement already satisfied: numexpr>=2.6.1 in /usr/local/lib/python3.6/dist-packages (from zipline==1.3.0->pipeline-live>=0.1.9->pylivetrader) (2.7.1)\n",
            "Requirement already satisfied: MarkupSafe>=0.23 in /usr/local/lib/python3.6/dist-packages (from zipline==1.3.0->pipeline-live>=0.1.9->pylivetrader) (1.1.1)\n",
            "Requirement already satisfied: intervaltree>=2.1.0 in /usr/local/lib/python3.6/dist-packages (from zipline==1.3.0->pipeline-live>=0.1.9->pylivetrader) (2.1.0)\n",
            "Requirement already satisfied: six>=1.10.0 in /usr/local/lib/python3.6/dist-packages (from zipline==1.3.0->pipeline-live>=0.1.9->pylivetrader) (1.12.0)\n",
            "Requirement already satisfied: pip>=7.1.0 in /usr/local/lib/python3.6/dist-packages (from zipline==1.3.0->pipeline-live>=0.1.9->pylivetrader) (19.3.1)\n",
            "Requirement already satisfied: requests-file>=1.4.1 in /usr/local/lib/python3.6/dist-packages (from zipline==1.3.0->pipeline-live>=0.1.9->pylivetrader) (1.4.3)\n",
            "Requirement already satisfied: Mako>=1.0.1 in /usr/local/lib/python3.6/dist-packages (from zipline==1.3.0->pipeline-live>=0.1.9->pylivetrader) (1.1.2)\n",
            "Requirement already satisfied: patsy>=0.4.0 in /usr/local/lib/python3.6/dist-packages (from zipline==1.3.0->pipeline-live>=0.1.9->pylivetrader) (0.5.1)\n",
            "Requirement already satisfied: multipledispatch>=0.4.8 in /usr/local/lib/python3.6/dist-packages (from zipline==1.3.0->pipeline-live>=0.1.9->pylivetrader) (0.6.0)\n",
            "Requirement already satisfied: empyrical>=0.5.0 in /usr/local/lib/python3.6/dist-packages (from zipline==1.3.0->pipeline-live>=0.1.9->pylivetrader) (0.5.3)\n",
            "Requirement already satisfied: contextlib2>=0.4.0 in /usr/local/lib/python3.6/dist-packages (from zipline==1.3.0->pipeline-live>=0.1.9->pylivetrader) (0.5.5)\n",
            "Requirement already satisfied: alembic>=0.7.7 in /usr/local/lib/python3.6/dist-packages (from zipline==1.3.0->pipeline-live>=0.1.9->pylivetrader) (1.4.1)\n",
            "Requirement already satisfied: wrapt<2,>=1.10 in /usr/local/lib/python3.6/dist-packages (from deprecated->alpaca-trade-api>=0.38->pylivetrader) (1.11.2)\n",
            "Requirement already satisfied: certifi>=2017.4.17 in /usr/local/lib/python3.6/dist-packages (from requests->alpaca-trade-api>=0.38->pylivetrader) (2019.11.28)\n",
            "Requirement already satisfied: idna<2.9,>=2.5 in /usr/local/lib/python3.6/dist-packages (from requests->alpaca-trade-api>=0.38->pylivetrader) (2.8)\n",
            "Requirement already satisfied: chardet<3.1.0,>=3.0.2 in /usr/local/lib/python3.6/dist-packages (from requests->alpaca-trade-api>=0.38->pylivetrader) (3.0.4)\n",
            "Requirement already satisfied: ipython-genutils in /usr/local/lib/python3.6/dist-packages (from traitlets>=4.2->ipython->pylivetrader) (0.2.0)\n",
            "Requirement already satisfied: ptyprocess>=0.5 in /usr/local/lib/python3.6/dist-packages (from pexpect; sys_platform != \"win32\"->ipython->pylivetrader) (0.6.0)\n",
            "Requirement already satisfied: wcwidth in /usr/local/lib/python3.6/dist-packages (from prompt-toolkit<2.0.0,>=1.0.4->ipython->pylivetrader) (0.1.8)\n",
            "Requirement already satisfied: lxml in /usr/local/lib/python3.6/dist-packages (from pandas-datareader>=0.2.1->zipline==1.3.0->pipeline-live>=0.1.9->pylivetrader) (4.2.6)\n",
            "Requirement already satisfied: python-editor>=0.3 in /usr/local/lib/python3.6/dist-packages (from alembic>=0.7.7->zipline==1.3.0->pipeline-live>=0.1.9->pylivetrader) (1.0.4)\n"
          ],
          "name": "stdout"
        }
      ]
    },
    {
      "cell_type": "code",
      "metadata": {
        "id": "pFcFCjZX8R54",
        "colab_type": "code",
        "colab": {
          "base_uri": "https://localhost:8080/",
          "height": 127
        },
        "outputId": "65f8c239-bfb2-466e-dc9d-5f6148a397b7"
      },
      "source": [
        "from google.colab import drive\n",
        "drive.mount('/content/drive')"
      ],
      "execution_count": 23,
      "outputs": [
        {
          "output_type": "stream",
          "text": [
            "Go to this URL in a browser: https://accounts.google.com/o/oauth2/auth?client_id=947318989803-6bn6qk8qdgf4n4g3pfee6491hc0brc4i.apps.googleusercontent.com&redirect_uri=urn%3aietf%3awg%3aoauth%3a2.0%3aoob&response_type=code&scope=email%20https%3a%2f%2fwww.googleapis.com%2fauth%2fdocs.test%20https%3a%2f%2fwww.googleapis.com%2fauth%2fdrive%20https%3a%2f%2fwww.googleapis.com%2fauth%2fdrive.photos.readonly%20https%3a%2f%2fwww.googleapis.com%2fauth%2fpeopleapi.readonly\n",
            "\n",
            "Enter your authorization code:\n",
            "··········\n",
            "Mounted at /content/drive\n"
          ],
          "name": "stdout"
        }
      ]
    },
    {
      "cell_type": "markdown",
      "metadata": {
        "id": "mDMNq-SXvjwy",
        "colab_type": "text"
      },
      "source": [
        "# Main"
      ]
    },
    {
      "cell_type": "code",
      "metadata": {
        "id": "QE1AHPYcEZEO",
        "colab_type": "code",
        "colab": {}
      },
      "source": [
        "from pylivetrader import *\n",
        "\n",
        "def initialize(context):\n",
        "    # Define sectors we're interested in trading.\n",
        "    context.sectors = [\n",
        "        'Basic Materials',\n",
        "        'Consumer Cyclical',\n",
        "        'Financial Services',\n",
        "        'Real Estate',\n",
        "        'Consumer Defensive',\n",
        "        'Healthcare',\n",
        "        'Utilities',\n",
        "        'Communication Services',\n",
        "        'Energy',\n",
        "        'Industrials',\n",
        "        'Technology'\n",
        "    ]\n",
        "\n",
        "    context.months_until_rebalance = 1\n",
        "    schedule_function(try_rebalance,\n",
        "                      date_rule=date_rules.month_start(),\n",
        "                      time_rule=time_rules.market_open())"
      ],
      "execution_count": 0,
      "outputs": []
    },
    {
      "cell_type": "code",
      "metadata": {
        "id": "7gZJy9DsSyFK",
        "colab_type": "code",
        "colab": {}
      },
      "source": [
        "#Rebalancing schedule\n",
        "def try_rebalance(context, data):\n",
        "    # See if it's time to rebalance every month.\n",
        "    # We'll reevaluate our positions once every three months.\n",
        "    if context.months_until_rebalance == 1:\n",
        "        update_target_securities(context)\n",
        "        rebalance(context)\n",
        "        context.months_until_rebalance = 3\n",
        "    else:\n",
        "        context.months_until_rebalance -= 1"
      ],
      "execution_count": 0,
      "outputs": []
    },
    {
      "cell_type": "code",
      "metadata": {
        "id": "kde0SzXzVJsn",
        "colab_type": "code",
        "colab": {}
      },
      "source": [
        "import pandas as pd\n",
        "\n",
        "def build_sector_fundamentals(sector):\n",
        "    '''\n",
        "    In this method, for the given sector, we'll get the data we need for each stock\n",
        "    in the sector from IEX. Once we have the data, we'll check that the earnings\n",
        "    reports meet our criteria with `eps_good()`. We'll put stocks that meet those\n",
        "    requirements into a dataframe along with all the data about them we'll need.\n",
        "    '''\n",
        "    stocks = get_sector(sector)\n",
        "    if len(stocks) == 0:\n",
        "        raise ValueError(\"Invalid sector name: {}\".format(sector))\n",
        "\n",
        "    # If we can't see its PE here, we're probably not interested in a stock. Omit it from batch queries.\n",
        "    stocks = [s for s in stocks if s['peRatio'] is not None]\n",
        "\n",
        "    # IEX doesn't like batch queries for more than 100 symbols at a time.\n",
        "    # We need to build our fundamentals info iteratively.\n",
        "    batch_idx = 0\n",
        "    batch_size = 99\n",
        "    fundamentals_dict = {}\n",
        "    while batch_idx < len(stocks):\n",
        "        symbol_batch = [s['symbol']\n",
        "                        for s in stocks[batch_idx:batch_idx+batch_size]]\n",
        "        stock_batch = Stock(symbol_batch)\n",
        "\n",
        "        # Pull all the data we'll need from IEX.\n",
        "        financials_json = stock_batch.get_financials()\n",
        "        quote_json = stock_batch.get_quote()\n",
        "        stats_json = stock_batch.get_key_stats()\n",
        "        earnings_json = stock_batch.get_earnings()\n",
        "\n",
        "        for symbol in symbol_batch:\n",
        "            # We'll filter based on earnings first to keep our fundamentals info a bit cleaner.\n",
        "            if not eps_good(earnings_json[symbol]):\n",
        "                continue\n",
        "\n",
        "            # Make sure we have all the data we'll need for our filters for this stock.\n",
        "            if not data_quality_good(symbol, financials_json, quote_json, stats_json):\n",
        "                continue\n",
        "\n",
        "            fundamentals_dict[symbol] = get_fundamental_data_for_symbol(\n",
        "                symbol,\n",
        "                financials_json,\n",
        "                quote_json,\n",
        "                stats_json\n",
        "            )\n",
        "\n",
        "        batch_idx += batch_size\n",
        "    # Transform all our data into a more filterable form - a dataframe - with a bit of pandas magic.\n",
        "    return pd.DataFrame.from_dict(fundamentals_dict).T"
      ],
      "execution_count": 0,
      "outputs": []
    },
    {
      "cell_type": "code",
      "metadata": {
        "id": "X3ASfm3uN0I2",
        "colab_type": "code",
        "colab": {}
      },
      "source": [
        "# We extend iexfinance a bit to support the sector collection endpoint.\n",
        "class SectorCollection():\n",
        "\n",
        "    def __init__(self, sector, **kwargs):\n",
        "        self.sector = quote(sector)\n",
        "        self.output_format = 'json'\n",
        "        super(SectorCollection, self).__init__(**kwargs)\n",
        "\n",
        "    @property\n",
        "    def url(self):\n",
        "        return '/stock/market/collection/sector?collectionName={}'.format(self.sector)"
      ],
      "execution_count": 0,
      "outputs": []
    },
    {
      "cell_type": "code",
      "metadata": {
        "id": "HGpghv9sTMre",
        "colab_type": "code",
        "colab": {}
      },
      "source": [
        "def update_target_securities(context):\n",
        "    # In order to avoid overinvestment in large sectors, we'll be weighting each stock by its sector contribution.\n",
        "    # More on this below.\n",
        "    context.total_sector_contributions = 0\n",
        "\n",
        "    # First, we'll grab all the stocks in the sectors we want to trade within.\n",
        "    sector_fundamental_dfs = {}\n",
        "    for sector in context.sectors:\n",
        "        fundamental_df = build_sector_fundamentals(sector)\n",
        "        filtered_fundamental_df = filter_fundamental_df(fundamental_df)\n",
        "\n",
        "        # To weight by sector contribution, we'll first store each stock's\n",
        "        # contribution to its own sector's presence in our portfolio as a\n",
        "        # percentage.\n",
        "        sector_market_cap = filtered_fundamental_df['market_cap'].sum()\n",
        "        filtered_fundamental_df['sector_contribution'] = filtered_fundamental_df['market_cap'] / sector_market_cap\n",
        "\n",
        "        # We'll add up all these percentage values, and our portfolio's weight\n",
        "        # in a stock will be determined by its weight relative to the sum total\n",
        "        # of all sector contributions.\n",
        "        context.total_sector_contributions += filtered_fundamental_df['sector_contribution'].sum()\n",
        "        sector_fundamental_dfs[sector] = filtered_fundamental_df\n",
        "\n",
        "    # At this point, merge all our dataframes together, as we're done\n",
        "    # with our sector-based calculations.\n",
        "    context.all_sectors_fundamental_df = pd.concat(\n",
        "        list(sector_fundamental_dfs.values()))"
      ],
      "execution_count": 0,
      "outputs": []
    },
    {
      "cell_type": "code",
      "metadata": {
        "id": "kDxr3cSHTe1C",
        "colab_type": "code",
        "colab": {}
      },
      "source": [
        "def rebalance(context):\n",
        "    # We want to purchase all stocks in our dataframe, if possible.\n",
        "    desired_stocks = context.all_sectors_fundamental_df.index.values\n",
        "\n",
        "    # Exit all positions we wish to drop before starting new ones.\n",
        "    for stock in context.portfolio.positions:\n",
        "        if stock not in desired_stocks:\n",
        "            order_target_percent(stock, 0)\n",
        "\n",
        "    # Rebalance all stocks to target weights.\n",
        "    for stock in desired_stocks:\n",
        "        # Determine how much of the portfolio should be allocated to this stock.\n",
        "        weight = get_weight(context, stock)\n",
        "        print('weight: {}'.format(weight))\n",
        "        if weight != 0:\n",
        "            try:\n",
        "                print('Buying {}'.format(stock))\n",
        "                order_target_percent(symbol(stock), weight)\n",
        "            except:\n",
        "                print(\n",
        "                    'Error: Tried to purchase {} but there was an error.'.format(stock))\n",
        "                pass\n",
        "            \n",
        "            \n",
        "def get_weight(context, stock):\n",
        "    # As discussed above, we'll be weighting each stock by its contribution to its sector.\n",
        "    return context.all_sectors_fundamental_df.loc[stock]['sector_contribution'] / context.total_sector_contributions\n"
      ],
      "execution_count": 0,
      "outputs": []
    },
    {
      "cell_type": "code",
      "metadata": {
        "id": "COVbFIdaKUMt",
        "colab_type": "code",
        "colab": {}
      },
      "source": [
        "def eps_good(earnings_reports):\n",
        "    # This method contains logic for filtering based on earnings reports.\n",
        "    if len(earnings_reports) < 4:\n",
        "        # The company must be very new. We'll skip it until it's had time to\n",
        "        # prove itself.\n",
        "        return False\n",
        "\n",
        "    # earnings_reports should contain the information about the last four\n",
        "    # quarterly reports.\n",
        "    for report in earnings_reports:\n",
        "        # We want to see consistent positive EPS.\n",
        "        try:\n",
        "            if not report['actualEPS']:\n",
        "                return False\n",
        "            if report['actualEPS'] < 0:\n",
        "                return False\n",
        "        except KeyError:\n",
        "            # A KeyError here indicates that some data was missing or that a company is less than two years old.\n",
        "            # We don't mind skipping over new companies until they've had more\n",
        "            # time in the market.\n",
        "            return False\n",
        "    return True\n",
        "\n",
        "\n",
        "def data_quality_good(symbol, financials_json, quote_json, stats_json):\n",
        "    # This method makes sure that we're not going to be investing in\n",
        "    # securities we don't have accurate data for.\n",
        "\n",
        "    if len(financials_json[symbol]\n",
        "           ) < 1 or quote_json[symbol]['latestPrice'] is None:\n",
        "        # No recent data was found. This can sometimes happen in case of recent\n",
        "        # markert suspensions.\n",
        "        return False\n",
        "\n",
        "    try:\n",
        "        if not (\n",
        "            quote_json[symbol]['marketCap'] and\n",
        "            stats_json[symbol]['priceToBook'] and\n",
        "            stats_json[symbol]['sharesOutstanding'] and\n",
        "            financials_json[symbol][0]['totalAssets'] and\n",
        "            financials_json[symbol][0]['currentAssets'] and\n",
        "            quote_json[symbol]['latestPrice']\n",
        "        ):\n",
        "            # Ignore companies IEX cannot report all necessary data for, or\n",
        "            # thinks are untradable.\n",
        "            return False\n",
        "    except KeyError:\n",
        "        # A KeyError here indicates that some data we need to evaluate this\n",
        "        # stock was missing.\n",
        "        return False\n",
        "\n",
        "    return True\n",
        "\n",
        "\n",
        "def get_fundamental_data_for_symbol(\n",
        "        symbol,\n",
        "        financials_json,\n",
        "        quote_json,\n",
        "        stats_json):\n",
        "    fundamentals_dict_for_symbol = {}\n",
        "\n",
        "    financials = financials_json[symbol][0]\n",
        "\n",
        "    # Calculate PB ratio.\n",
        "    fundamentals_dict_for_symbol['pb_ratio'] = stats_json[symbol]['priceToBook']\n",
        "\n",
        "    # Find the \"Current Ratio\" - current assets to current debt.\n",
        "    current_debt = financials['currentDebt'] if financials['currentDebt'] else 1\n",
        "    fundamentals_dict_for_symbol['current_ratio'] = financials['currentAssets'] / current_debt\n",
        "\n",
        "    # Find the ratio of long term debt to short-term liquiditable assets.\n",
        "    total_debt = financials['totalDebt'] if financials['totalDebt'] else 0\n",
        "    fundamentals_dict_for_symbol['debt_to_liq_ratio'] = total_debt / \\\n",
        "        financials['currentAssets']\n",
        "\n",
        "    # Store other information for this stock so we can filter on the data\n",
        "    # later.\n",
        "    fundamentals_dict_for_symbol['pe_ratio'] = quote_json[symbol]['peRatio']\n",
        "    fundamentals_dict_for_symbol['market_cap'] = quote_json[symbol]['marketCap']\n",
        "    fundamentals_dict_for_symbol['dividend_yield'] = stats_json[symbol]['dividendYield']\n",
        "\n",
        "    return fundamentals_dict_for_symbol"
      ],
      "execution_count": 0,
      "outputs": []
    },
    {
      "cell_type": "code",
      "metadata": {
        "id": "m17GIiFPKYTm",
        "colab_type": "code",
        "colab": {}
      },
      "source": [
        "# This is where we remove stocks that don't meet our investment criteria.\n",
        "def filter_fundamental_df(fundamental_df):\n",
        "    return fundamental_df[\n",
        "        (fundamental_df.current_ratio > 1.5) &\n",
        "        (fundamental_df.debt_to_liq_ratio < 1.1) &\n",
        "        (fundamental_df.pe_ratio < 9) &\n",
        "        (fundamental_df.pb_ratio < 1.2) &\n",
        "        (fundamental_df.dividend_yield > 1.0)\n",
        "    ]"
      ],
      "execution_count": 0,
      "outputs": []
    },
    {
      "cell_type": "markdown",
      "metadata": {
        "id": "KH2y5wncvpKU",
        "colab_type": "text"
      },
      "source": [
        "# Alpaca"
      ]
    },
    {
      "cell_type": "code",
      "metadata": {
        "id": "p_ouL8DF0uHL",
        "colab_type": "code",
        "colab": {
          "base_uri": "https://localhost:8080/",
          "height": 343
        },
        "outputId": "d9e1306c-b4cc-4e2b-cd8b-59a48920be79"
      },
      "source": [
        "!pip3 install alpaca-trade-api"
      ],
      "execution_count": 13,
      "outputs": [
        {
          "output_type": "stream",
          "text": [
            "Requirement already satisfied: alpaca-trade-api in /usr/local/lib/python3.6/dist-packages (0.46)\n",
            "Requirement already satisfied: pandas in /usr/local/lib/python3.6/dist-packages (from alpaca-trade-api) (0.22.0)\n",
            "Requirement already satisfied: websockets>=8.0 in /usr/local/lib/python3.6/dist-packages (from alpaca-trade-api) (8.1)\n",
            "Requirement already satisfied: asyncio-nats-client in /usr/local/lib/python3.6/dist-packages (from alpaca-trade-api) (0.10.0)\n",
            "Requirement already satisfied: alpha-vantage in /usr/local/lib/python3.6/dist-packages (from alpaca-trade-api) (2.1.3)\n",
            "Requirement already satisfied: deprecated in /usr/local/lib/python3.6/dist-packages (from alpaca-trade-api) (1.2.7)\n",
            "Requirement already satisfied: urllib3<1.25 in /usr/local/lib/python3.6/dist-packages (from alpaca-trade-api) (1.24.3)\n",
            "Requirement already satisfied: requests in /usr/local/lib/python3.6/dist-packages (from alpaca-trade-api) (2.21.0)\n",
            "Requirement already satisfied: websocket-client in /usr/local/lib/python3.6/dist-packages (from alpaca-trade-api) (0.57.0)\n",
            "Requirement already satisfied: pytz>=2011k in /usr/local/lib/python3.6/dist-packages (from pandas->alpaca-trade-api) (2018.9)\n",
            "Requirement already satisfied: numpy>=1.9.0 in /usr/local/lib/python3.6/dist-packages (from pandas->alpaca-trade-api) (1.17.5)\n",
            "Requirement already satisfied: python-dateutil>=2 in /usr/local/lib/python3.6/dist-packages (from pandas->alpaca-trade-api) (2.6.1)\n",
            "Requirement already satisfied: wrapt<2,>=1.10 in /usr/local/lib/python3.6/dist-packages (from deprecated->alpaca-trade-api) (1.11.2)\n",
            "Requirement already satisfied: idna<2.9,>=2.5 in /usr/local/lib/python3.6/dist-packages (from requests->alpaca-trade-api) (2.8)\n",
            "Requirement already satisfied: chardet<3.1.0,>=3.0.2 in /usr/local/lib/python3.6/dist-packages (from requests->alpaca-trade-api) (3.0.4)\n",
            "Requirement already satisfied: certifi>=2017.4.17 in /usr/local/lib/python3.6/dist-packages (from requests->alpaca-trade-api) (2019.11.28)\n",
            "Requirement already satisfied: six in /usr/local/lib/python3.6/dist-packages (from websocket-client->alpaca-trade-api) (1.12.0)\n"
          ],
          "name": "stdout"
        }
      ]
    },
    {
      "cell_type": "code",
      "metadata": {
        "id": "uenh1cnx081L",
        "colab_type": "code",
        "colab": {
          "base_uri": "https://localhost:8080/",
          "height": 35
        },
        "outputId": "7972fb19-64bd-4e53-8021-0b6c901a46c8"
      },
      "source": [
        "import alpaca_trade_api as tradeapi\n",
        "\n",
        "api = tradeapi.REST('PK2JP8S3WBOGK3DJMLWA','kyI0YZ3e2clXNcrNnZce1QnAXBhsgUH9fwoOvrxB','https://paper-api.alpaca.markets')\n",
        "\n",
        "# Get our account information.\n",
        "account = api.get_account()\n",
        "\n",
        "# Check if our account is restricted from trading.\n",
        "if account.trading_blocked:\n",
        "    print('Account is currently restricted from trading.')\n",
        "\n",
        "# Check how much money we can use to open new positions.\n",
        "print('${} is available as buying power.'.format(account.buying_power))"
      ],
      "execution_count": 17,
      "outputs": [
        {
          "output_type": "stream",
          "text": [
            "$396986.4 is available as buying power.\n"
          ],
          "name": "stdout"
        }
      ]
    },
    {
      "cell_type": "markdown",
      "metadata": {
        "id": "e9_k_exu5__j",
        "colab_type": "text"
      },
      "source": [
        "# Run"
      ]
    },
    {
      "cell_type": "code",
      "metadata": {
        "id": "JVvE_DQpp3d_",
        "colab_type": "code",
        "outputId": "462b577f-35dc-4214-d0c3-229431040880",
        "colab": {
          "base_uri": "https://localhost:8080/",
          "height": 89
        }
      },
      "source": [
        "!pylivetrader run -f BenGraham2.ipynb"
      ],
      "execution_count": 27,
      "outputs": [
        {
          "output_type": "stream",
          "text": [
            "Usage: pylivetrader run [OPTIONS] [ALGOFILE]...\n",
            "Try \"pylivetrader run --help\" for help.\n",
            "\n",
            "Error: Invalid value for \"-f\" / \"--file\": File \"BenGraham2.ipynb\" does not exist.\n"
          ],
          "name": "stdout"
        }
      ]
    },
    {
      "cell_type": "code",
      "metadata": {
        "id": "XsybgH9r7zpD",
        "colab_type": "code",
        "colab": {
          "base_uri": "https://localhost:8080/",
          "height": 935
        },
        "outputId": "9f128e04-9ccf-4737-b91d-7ca665769698"
      },
      "source": [
        "!pylivetrader run --help"
      ],
      "execution_count": 21,
      "outputs": [
        {
          "output_type": "stream",
          "text": [
            "Usage: pylivetrader run [OPTIONS] [ALGOFILE]...\n",
            "\n",
            "Options:\n",
            "  -q, --quantopian-compatible BOOLEAN\n",
            "                                  Set 0 if\n",
            "                                  compatibility\n",
            "                                  with the\n",
            "                                  Quantopian\n",
            "                                  platform is not\n",
            "                                  a concern for\n",
            "                                  your script.\n",
            "                                  [default: True]\n",
            "  --storage-engine [redis|file]   The storage\n",
            "                                  engine to use to\n",
            "                                  persist context.\n",
            "                                  [default: file]\n",
            "  -l, --log-level [INFO|CRITICAL|WARNING|DEBUG|ERROR]\n",
            "                                  The minimum\n",
            "                                  level of log to\n",
            "                                  be written.\n",
            "                                  [default: INFO]\n",
            "  -r, --retry BOOLEAN             True to continue\n",
            "                                  running in\n",
            "                                  general\n",
            "                                  exception\n",
            "                                  [default: True]\n",
            "  -s, --statefile PATH            Path to the\n",
            "                                  state file.\n",
            "                                  Defaults to <alg\n",
            "                                  ofile>-state.pkl\n",
            "                                  .\n",
            "  --data-frequency [daily|minute]\n",
            "                                  The data\n",
            "                                  frequency of the\n",
            "                                  live trade.\n",
            "                                  [default:\n",
            "                                  minute]\n",
            "  --backend-config FILE           Path to broker\n",
            "                                  backend config\n",
            "                                  file.\n",
            "  -b, --backend TEXT              Broker backend\n",
            "                                  to run algorithm\n",
            "                                  with.  [default:\n",
            "                                  alpaca]\n",
            "  -f, --file FILE                 Path to the file\n",
            "                                  taht contains\n",
            "                                  algorithm to\n",
            "                                  run.\n",
            "  --help                          Show this\n",
            "                                  message and\n",
            "                                  exit.\n"
          ],
          "name": "stdout"
        }
      ]
    },
    {
      "cell_type": "code",
      "metadata": {
        "id": "j58mjfm8-BIw",
        "colab_type": "code",
        "colab": {
          "base_uri": "https://localhost:8080/",
          "height": 73
        },
        "outputId": "b5deaa44-13cc-4da1-c7ac-4e5d1954bf2c"
      },
      "source": [
        "!cp /content/gdrive/My\\ Drive/Colab\\ Notebooks/BenGraham2.ipynb /usr/local/bin\n",
        "!chmod 755 /usr/local/bin/BenGraham2.ipynb"
      ],
      "execution_count": 28,
      "outputs": [
        {
          "output_type": "stream",
          "text": [
            "cp: cannot stat '/content/gdrive/My Drive/Colab Notebooks/BenGraham2.ipynb': No such file or directory\n",
            "chmod: cannot access '/usr/local/bin/BenGraham2.ipynb': No such file or directory\n"
          ],
          "name": "stdout"
        }
      ]
    },
    {
      "cell_type": "code",
      "metadata": {
        "id": "r4ydLDB4RfPu",
        "colab_type": "code",
        "colab": {}
      },
      "source": [
        "#Integrate Alpaca API\n",
        "#Run pylivetrader\n",
        "#Command code notebook: https://colab.research.google.com/drive/1QWZXsCSpX4UBiiyo0_rGy3ysEXTFmtc0"
      ],
      "execution_count": 0,
      "outputs": []
    }
  ]
}